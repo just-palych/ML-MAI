{
  "cells": [
    {
      "cell_type": "markdown",
      "metadata": {
        "id": "sErcjeV2zU5I"
      },
      "source": [
        "# **Лабораторная работа №1**\n",
        "\n",
        "## **Выполнил:**\n",
        "\n"
      ]
    },
    {
      "cell_type": "markdown",
      "metadata": {
        "id": "cXTzO5HV18Yr"
      },
      "source": [
        "# 1. Numpy\n",
        "\n",
        "Необходимо использовать функции и методы библиотеки numpy. Использовать циклы, генераторы списков **запрещено**."
      ]
    },
    {
      "cell_type": "code",
      "execution_count": null,
      "metadata": {
        "id": "SOoiYvX5EAEA"
      },
      "outputs": [],
      "source": [
        "import numpy as np"
      ]
    },
    {
      "cell_type": "markdown",
      "metadata": {
        "id": "AmUMh0xo32nb"
      },
      "source": [
        "1. Создайте матрицу $3 × 3 $ со значениями от 0 до 8."
      ]
    },
    {
      "cell_type": "code",
      "execution_count": null,
      "metadata": {
        "id": "34WhZifT13Jn",
        "colab": {
          "base_uri": "https://localhost:8080/"
        },
        "outputId": "0a5a4e54-141c-4917-e93f-b4eb6f7eacb0"
      },
      "outputs": [
        {
          "output_type": "stream",
          "name": "stdout",
          "text": [
            "[[0 1 2]\n",
            " [3 4 5]\n",
            " [6 7 8]]\n"
          ]
        }
      ],
      "source": [
        "matrix = np.arange(9).reshape(3, 3)\n",
        "print(matrix)"
      ]
    },
    {
      "cell_type": "markdown",
      "metadata": {
        "id": "1jSpAGnP12Vn"
      },
      "source": [
        "2. Создайте матрицу шахматной доски  $8 × 8 $, заполненную 'B' и 'W', используя\n",
        "функцию tile."
      ]
    },
    {
      "cell_type": "code",
      "execution_count": null,
      "metadata": {
        "id": "OKjYdYlB32JN",
        "colab": {
          "base_uri": "https://localhost:8080/"
        },
        "outputId": "79c06bba-cf2c-40df-dd71-88b3c0f7c64c"
      },
      "outputs": [
        {
          "output_type": "stream",
          "name": "stdout",
          "text": [
            "[['B' 'W' 'B' 'W' 'B' 'W' 'B' 'W']\n",
            " ['W' 'B' 'W' 'B' 'W' 'B' 'W' 'B']\n",
            " ['B' 'W' 'B' 'W' 'B' 'W' 'B' 'W']\n",
            " ['W' 'B' 'W' 'B' 'W' 'B' 'W' 'B']\n",
            " ['B' 'W' 'B' 'W' 'B' 'W' 'B' 'W']\n",
            " ['W' 'B' 'W' 'B' 'W' 'B' 'W' 'B']\n",
            " ['B' 'W' 'B' 'W' 'B' 'W' 'B' 'W']\n",
            " ['W' 'B' 'W' 'B' 'W' 'B' 'W' 'B']]\n"
          ]
        }
      ],
      "source": [
        "base = np.array([['B', 'W'], ['W', 'B']])\n",
        "chessboard = np.tile(base, (4, 4))\n",
        "print(chessboard)"
      ]
    },
    {
      "cell_type": "markdown",
      "metadata": {
        "id": "_k7LOsPh4Feo"
      },
      "source": [
        "3. Найти индексы ненулевых элементов в произвольном массиве, например: $ [1,2,0,0,4,0,0,4,6,4,0] $\n"
      ]
    },
    {
      "cell_type": "code",
      "execution_count": null,
      "metadata": {
        "id": "BUJdZFGn4P3k",
        "colab": {
          "base_uri": "https://localhost:8080/"
        },
        "outputId": "4170efc7-7dc1-4e13-de6b-ed993af0b70d"
      },
      "outputs": [
        {
          "output_type": "stream",
          "name": "stdout",
          "text": [
            "[0 1 4 7 8 9]\n"
          ]
        }
      ],
      "source": [
        "arr = np.array([1, 2, 0, 0, 4, 0, 0, 4, 6, 4, 0])\n",
        "nonzero_indices = np.nonzero(arr)[0]\n",
        "print(nonzero_indices)"
      ]
    },
    {
      "cell_type": "markdown",
      "metadata": {
        "id": "ZJWS2wO-3xfn"
      },
      "source": [
        "4. Создайте двумерный массив с единицами на границах и нулями внутри, например:\n",
        "\n",
        "$ 1 1 1 1 1 $\n",
        "\n",
        "$ 1 0 0 0 1 $\n",
        "\n",
        "$ 1 0 0 0 1 $\n",
        "\n",
        "$ 1 1 1 1 1 $\n"
      ]
    },
    {
      "cell_type": "code",
      "execution_count": null,
      "metadata": {
        "id": "dGfAw9ii5fhJ",
        "colab": {
          "base_uri": "https://localhost:8080/"
        },
        "outputId": "a3ec5e0b-00b6-4310-d620-e5d2eb54b52b"
      },
      "outputs": [
        {
          "output_type": "stream",
          "name": "stdout",
          "text": [
            "[[1. 1. 1. 1. 1.]\n",
            " [1. 0. 0. 0. 1.]\n",
            " [1. 0. 0. 0. 1.]\n",
            " [1. 0. 0. 0. 1.]\n",
            " [1. 1. 1. 1. 1.]]\n"
          ]
        }
      ],
      "source": [
        "border_matrix = np.ones((5, 5))\n",
        "border_matrix[1:-1, 1:-1] = 0\n",
        "print(border_matrix)"
      ]
    },
    {
      "cell_type": "markdown",
      "metadata": {
        "id": "L8m6wERB4m7_"
      },
      "source": [
        "5. Создайте случайный вектор размером 15 и замените максимальное значение на $NaN$.\n"
      ]
    },
    {
      "cell_type": "code",
      "execution_count": null,
      "metadata": {
        "id": "-orpyoP14mKS",
        "colab": {
          "base_uri": "https://localhost:8080/"
        },
        "outputId": "26cd8711-62cc-4711-dead-98394d51f3d9"
      },
      "outputs": [
        {
          "output_type": "stream",
          "name": "stdout",
          "text": [
            "[0.20408874 0.65020695 0.76485821 0.33775824 0.17859797 0.77045775\n",
            " 0.31636051 0.03233668 0.27744466        nan 0.94573718 0.33111836\n",
            " 0.2607639  0.40992113 0.03094995]\n"
          ]
        }
      ],
      "source": [
        "vector = np.random.random(15)\n",
        "vector[np.argmax(vector)] = np.nan\n",
        "print(vector)"
      ]
    },
    {
      "cell_type": "markdown",
      "metadata": {
        "id": "V5SVMkLv4QOl"
      },
      "source": [
        "6. Рассмотрим массив размерности $(6, 7, 8)$. Каков индекс $(i,j,k)$ 100-го элемента?"
      ]
    },
    {
      "cell_type": "code",
      "execution_count": null,
      "metadata": {
        "id": "Io3LqADB4oNd",
        "colab": {
          "base_uri": "https://localhost:8080/"
        },
        "outputId": "547d52d1-206e-4054-97ae-8206e56ed9f5"
      },
      "outputs": [
        {
          "output_type": "stream",
          "name": "stdout",
          "text": [
            "(np.int64(1), np.int64(5), np.int64(3))\n"
          ]
        }
      ],
      "source": [
        "shape = (6, 7, 8)\n",
        "index = np.unravel_index(99, shape)\n",
        "print(index)"
      ]
    },
    {
      "cell_type": "markdown",
      "metadata": {
        "id": "vTEGupeC4bmb"
      },
      "source": [
        "7. Рассмотрим случайную матрицу  $15 × 2 $, представляющую декартовы координаты, преобразуйте их в полярные координаты."
      ]
    },
    {
      "cell_type": "code",
      "execution_count": null,
      "metadata": {
        "id": "wJggfH9L4nZ_",
        "colab": {
          "base_uri": "https://localhost:8080/"
        },
        "outputId": "4422ae6c-6ae2-458a-9749-d98f65abc693"
      },
      "outputs": [
        {
          "output_type": "stream",
          "name": "stdout",
          "text": [
            "[[0.91765398 1.21823084]\n",
            " [0.69269389 0.58671152]\n",
            " [1.13911578 0.73365573]\n",
            " [1.08906961 0.5543408 ]\n",
            " [0.38959065 0.7386172 ]\n",
            " [1.04547872 0.79725768]\n",
            " [0.52649777 0.10569991]\n",
            " [0.17398902 0.08591626]\n",
            " [1.12308279 0.48065493]\n",
            " [0.88824777 0.02949942]\n",
            " [0.3074769  0.79715827]\n",
            " [0.98076119 1.28927082]\n",
            " [0.65767046 0.9751937 ]\n",
            " [1.08833167 0.50495281]\n",
            " [0.73107487 0.05538829]]\n"
          ]
        }
      ],
      "source": [
        "coords = np.random.random((15, 2))\n",
        "x, y = coords[:, 0], coords[:, 1]\n",
        "r = np.sqrt(x**2 + y**2)\n",
        "theta = np.arctan2(y, x)\n",
        "polar_coords = np.column_stack((r, theta))\n",
        "print(polar_coords)"
      ]
    },
    {
      "cell_type": "markdown",
      "metadata": {
        "id": "Y6QOvFAE5Rdo"
      },
      "source": [
        "8. По двум массивам $x$ и $y$ постройте матрицу Коши $C$\n",
        " $(C_{ij} =\\frac{1}{x_i - y_j})$"
      ]
    },
    {
      "cell_type": "code",
      "execution_count": null,
      "metadata": {
        "id": "VrMhqaTg5Rvv",
        "colab": {
          "base_uri": "https://localhost:8080/"
        },
        "outputId": "efac781d-2026-49d7-8a43-bc978350269b"
      },
      "outputs": [
        {
          "output_type": "stream",
          "name": "stdout",
          "text": [
            "[[-0.33333333 -0.25       -0.2        -0.16666667]\n",
            " [-0.5        -0.33333333 -0.25       -0.2       ]\n",
            " [-1.         -0.5        -0.33333333 -0.25      ]]\n"
          ]
        }
      ],
      "source": [
        "x = np.array([1, 2, 3])\n",
        "y = np.array([4, 5, 6, 7])\n",
        "C = 1.0 / (x[:, None] - y)\n",
        "print(C)"
      ]
    },
    {
      "cell_type": "markdown",
      "metadata": {
        "id": "clAXzbii4wA3"
      },
      "source": [
        "9. Рассмотрим матрицу $10 × 3 $, извлеките строки с неравными значениями (например, $[2,2,3]$)."
      ]
    },
    {
      "cell_type": "code",
      "execution_count": null,
      "metadata": {
        "id": "97jD43Gl4wbx",
        "colab": {
          "base_uri": "https://localhost:8080/"
        },
        "outputId": "95eedff0-7a3d-4b33-93c2-a2506589f838"
      },
      "outputs": [
        {
          "output_type": "stream",
          "name": "stdout",
          "text": [
            "[[0 1 0]\n",
            " [1 2 2]\n",
            " [1 1 2]\n",
            " [1 2 1]\n",
            " [1 1 2]\n",
            " [0 0 2]\n",
            " [1 2 1]\n",
            " [0 0 1]\n",
            " [0 1 1]\n",
            " [0 2 1]]\n"
          ]
        }
      ],
      "source": [
        "matrix = np.random.randint(0, 3, (10, 3))\n",
        "unequal_rows = matrix[~np.all(matrix[:, 1:] == matrix[:, :-1], axis=1)]\n",
        "print(unequal_rows)"
      ]
    },
    {
      "cell_type": "markdown",
      "metadata": {
        "id": "3dVmnyBLxuUP"
      },
      "source": [
        "10. Извлеките уникальные строки из двумерного массива.\n"
      ]
    },
    {
      "cell_type": "code",
      "execution_count": null,
      "metadata": {
        "id": "yWdTK_orxtx0",
        "colab": {
          "base_uri": "https://localhost:8080/"
        },
        "outputId": "79fe7989-2979-4372-b372-d91c51e8a9fb"
      },
      "outputs": [
        {
          "output_type": "stream",
          "name": "stdout",
          "text": [
            "[[1 2 3]\n",
            " [4 5 6]\n",
            " [7 8 9]]\n"
          ]
        }
      ],
      "source": [
        "arr = np.array([[1, 2, 3], [4, 5, 6], [1, 2, 3], [7, 8, 9]])\n",
        "unique_rows = np.unique(arr, axis=0)\n",
        "print(unique_rows)"
      ]
    },
    {
      "cell_type": "markdown",
      "metadata": {
        "id": "ehaTVnKIyufu"
      },
      "source": [
        "# 2. Pandas\n",
        "\n",
        "# Найдите ответы на вопросы с помощью предложенного датасета:"
      ]
    },
    {
      "cell_type": "markdown",
      "metadata": {
        "id": "h7NfRLCpFec1"
      },
      "source": [
        "Файл с датасетом - `olympics_dataset.csv`"
      ]
    },
    {
      "cell_type": "code",
      "execution_count": null,
      "metadata": {
        "id": "Kw6_tTGOEAED"
      },
      "outputs": [],
      "source": [
        "import pandas as pd"
      ]
    },
    {
      "cell_type": "code",
      "execution_count": null,
      "metadata": {
        "id": "jhQBe5NaEAED",
        "colab": {
          "base_uri": "https://localhost:8080/"
        },
        "outputId": "ee8d84f8-6e89-4f54-aa8d-bf4d2226023d"
      },
      "outputs": [
        {
          "output_type": "stream",
          "name": "stdout",
          "text": [
            "<class 'pandas.core.frame.DataFrame'>\n",
            "RangeIndex: 252565 entries, 0 to 252564\n",
            "Data columns (total 11 columns):\n",
            " #   Column     Non-Null Count   Dtype \n",
            "---  ------     --------------   ----- \n",
            " 0   player_id  252565 non-null  int64 \n",
            " 1   Name       252565 non-null  object\n",
            " 2   Sex        252565 non-null  object\n",
            " 3   Team       252565 non-null  object\n",
            " 4   NOC        252565 non-null  object\n",
            " 5   Year       252565 non-null  int64 \n",
            " 6   Season     252565 non-null  object\n",
            " 7   City       252565 non-null  object\n",
            " 8   Sport      252565 non-null  object\n",
            " 9   Event      252565 non-null  object\n",
            " 10  Medal      252565 non-null  object\n",
            "dtypes: int64(2), object(9)\n",
            "memory usage: 21.2+ MB\n",
            "None\n",
            "   player_id                   Name Sex            Team  NOC  Year  Season  \\\n",
            "0          0              A Dijiang   M           China  CHN  1992  Summer   \n",
            "1          1               A Lamusi   M           China  CHN  2012  Summer   \n",
            "2          2            Gunnar Aaby   M         Denmark  DEN  1920  Summer   \n",
            "3          3            Edgar Aabye   M  Denmark/Sweden  DEN  1900  Summer   \n",
            "4         26  Cornelia (-strannood)   F     Netherlands  NED  1932  Summer   \n",
            "\n",
            "          City       Sport                         Event     Medal  \n",
            "0    Barcelona  Basketball   Basketball Men's Basketball  No medal  \n",
            "1       London        Judo  Judo Men's Extra-Lightweight  No medal  \n",
            "2    Antwerpen    Football       Football Men's Football  No medal  \n",
            "3        Paris  Tug-Of-War   Tug-Of-War Men's Tug-Of-War      Gold  \n",
            "4  Los Angeles   Athletics  Athletics Women's 100 metres  No medal  \n"
          ]
        }
      ],
      "source": [
        "df = pd.read_csv(\"olympics_dataset.csv\")\n",
        "\n",
        "print(df.info())\n",
        "print(df.head())"
      ]
    },
    {
      "cell_type": "markdown",
      "metadata": {
        "id": "fuOEjaSBzJMn"
      },
      "source": [
        "1. Сколько спортсменов участвовали в Летних Олимпийских играх за всё время?"
      ]
    },
    {
      "cell_type": "code",
      "execution_count": null,
      "metadata": {
        "id": "W0NVQaWEzcrj",
        "colab": {
          "base_uri": "https://localhost:8080/"
        },
        "outputId": "8745e79f-d8a2-4825-eeeb-b72a0fd1cd77"
      },
      "outputs": [
        {
          "output_type": "stream",
          "name": "stdout",
          "text": [
            "235903\n"
          ]
        }
      ],
      "source": [
        "summer_athletes = df[df['Season'] == 'Summer']['player_id'].nunique()\n",
        "print(summer_athletes)"
      ]
    },
    {
      "cell_type": "markdown",
      "metadata": {
        "id": "NgqBXyjAzdC1"
      },
      "source": [
        "2. Найдите участника с наибольшим количеством медалей"
      ]
    },
    {
      "cell_type": "code",
      "execution_count": null,
      "metadata": {
        "id": "_BgXSSrAzgJr",
        "colab": {
          "base_uri": "https://localhost:8080/"
        },
        "outputId": "4ba44baa-13e7-4141-b632-543363823e3d"
      },
      "outputs": [
        {
          "output_type": "stream",
          "name": "stdout",
          "text": [
            "Yufei Zhang\n"
          ]
        }
      ],
      "source": [
        "top_athlete = df[df['Medal'] != 'No medal'].groupby(['Name', 'player_id'])['Medal'].count().idxmax()\n",
        "print(top_athlete[0])"
      ]
    },
    {
      "cell_type": "markdown",
      "metadata": {
        "id": "hAITny41zgjO"
      },
      "source": [
        "3. Какой спорт является самым популярным, то есть в нём участвовало больше всего спортсменов за всё время?"
      ]
    },
    {
      "cell_type": "code",
      "execution_count": null,
      "metadata": {
        "id": "3aG36MWizmVa",
        "colab": {
          "base_uri": "https://localhost:8080/"
        },
        "outputId": "5056ab26-dfd4-4704-b8a2-8a4875cd505f"
      },
      "outputs": [
        {
          "output_type": "stream",
          "name": "stdout",
          "text": [
            "Athletics\n"
          ]
        }
      ],
      "source": [
        "popular_sport = df['Sport'].value_counts().idxmax()\n",
        "print(popular_sport)"
      ]
    },
    {
      "cell_type": "markdown",
      "metadata": {
        "id": "8AU6Qj1nzmo9"
      },
      "source": [
        "4. Кто был победителем медального зачёта в 2004 году?"
      ]
    },
    {
      "cell_type": "code",
      "execution_count": null,
      "metadata": {
        "id": "VU9cUVwCzr4v",
        "colab": {
          "base_uri": "https://localhost:8080/"
        },
        "outputId": "6d1c5ade-ad8e-42f6-95c6-4b934adf4cf6"
      },
      "outputs": [
        {
          "output_type": "stream",
          "name": "stdout",
          "text": [
            "United States\n"
          ]
        }
      ],
      "source": [
        "medals_2004 = df[(df['Year'] == 2004) & (df['Medal'] != 'No medal')]\n",
        "top_country_2004 = medals_2004['Team'].value_counts().idxmax()\n",
        "print(top_country_2004)"
      ]
    },
    {
      "cell_type": "markdown",
      "metadata": {
        "id": "WW5dyJHlzsMS"
      },
      "source": [
        "5. В каком виде спорта США завоевало наибольшее число медалей?"
      ]
    },
    {
      "cell_type": "code",
      "execution_count": null,
      "metadata": {
        "id": "VStk_FqV1RMW",
        "colab": {
          "base_uri": "https://localhost:8080/"
        },
        "outputId": "8a05d5b9-aea7-4aa5-8fa2-a471640a7359"
      },
      "outputs": [
        {
          "output_type": "stream",
          "name": "stdout",
          "text": [
            "Swimming\n"
          ]
        }
      ],
      "source": [
        "usa_medals = df[(df['Team'] == 'United States') & (df['Medal'] != 'No medal')]\n",
        "top_sport_usa = usa_medals['Sport'].value_counts().idxmax()\n",
        "print(top_sport_usa)"
      ]
    },
    {
      "cell_type": "markdown",
      "metadata": {
        "id": "mqT-RjT5ymfJ"
      },
      "source": [
        "# С помощью графика покажите:"
      ]
    },
    {
      "cell_type": "markdown",
      "metadata": {
        "id": "KrawmUwtERK0"
      },
      "source": [
        "6. Сколько женщин и мужчин участвовало в Летних Олимпийских играх каждый год?"
      ]
    },
    {
      "cell_type": "code",
      "execution_count": null,
      "metadata": {
        "id": "xIDuYWxLEZty",
        "colab": {
          "base_uri": "https://localhost:8080/",
          "height": 563
        },
        "outputId": "0bc94804-26d5-4e79-dc12-9cc5528dad6e"
      },
      "outputs": [
        {
          "output_type": "display_data",
          "data": {
            "text/plain": [
              "<Figure size 1200x600 with 1 Axes>"
            ],
            "image/png": "[encoded data removed]"
          },
          "metadata": {}
        }
      ],
      "source": [
        "import matplotlib.pyplot as plt\n",
        "\n",
        "gender_year = df[df['Season'] == 'Summer'].groupby(['Year', 'Sex']).size().unstack()\n",
        "gender_year.plot(kind='bar', stacked=True, figsize=(12, 6))\n",
        "\n",
        "plt.show()"
      ]
    },
    {
      "cell_type": "markdown",
      "metadata": {
        "id": "Vd7kfuEeEZSr"
      },
      "source": [
        "7. Какие 10 стран на текущий момент имеют наибольшее количество золотых медалей?\n"
      ]
    },
    {
      "cell_type": "code",
      "execution_count": null,
      "metadata": {
        "id": "weNY9z0NFb4c",
        "colab": {
          "base_uri": "https://localhost:8080/",
          "height": 545
        },
        "outputId": "05f1187d-8d6d-424d-9663-27f323a62ae3"
      },
      "outputs": [
        {
          "output_type": "display_data",
          "data": {
            "text/plain": [
              "<Figure size 1000x500 with 1 Axes>"
            ],
            "image/png": "[encoded data removed]"
          },
          "metadata": {}
        }
      ],
      "source": [
        "gold_medals = df[df['Medal'] == 'Gold']['Team'].value_counts().head(10)\n",
        "gold_medals.plot(kind='bar', figsize=(10, 5))\n",
        "\n",
        "plt.show()"
      ]
    },
    {
      "cell_type": "markdown",
      "metadata": {
        "id": "SlRCGFkXFbBq"
      },
      "source": [
        "8. Сколько золотых, серебряных и бронзовых медалей зарабатывал СССР отдельно по каждым играм?"
      ]
    },
    {
      "cell_type": "code",
      "execution_count": null,
      "metadata": {
        "id": "SzrdxQhaF7gT",
        "colab": {
          "base_uri": "https://localhost:8080/",
          "height": 563
        },
        "outputId": "c68237cd-ee51-413f-b3c1-50e852828fa1"
      },
      "outputs": [
        {
          "output_type": "display_data",
          "data": {
            "text/plain": [
              "<Figure size 1200x600 with 1 Axes>"
            ],
            "image/png": "[encoded data removed]"
          },
          "metadata": {}
        }
      ],
      "source": [
        "ussr_medals = df[(df['Team'] == 'Soviet Union') & (df['Medal'] != 'No medal')]\n",
        "medals_by_year = ussr_medals.groupby(['Year', 'Medal']).size().unstack()\n",
        "medals_by_year.plot(kind='bar', stacked=True, figsize=(12, 6))\n",
        "\n",
        "plt.show()"
      ]
    },
    {
      "cell_type": "markdown",
      "metadata": {
        "id": "L7Nnrghyy07f"
      },
      "source": [
        "9. Сколько медалей завоёвывали спортсмены и спортсменки (отдельно) команды Китая на каждой олимпиаде?\n"
      ]
    },
    {
      "cell_type": "code",
      "execution_count": null,
      "metadata": {
        "id": "IjMC9RULy0tE",
        "colab": {
          "base_uri": "https://localhost:8080/",
          "height": 563
        },
        "outputId": "1fb5c466-e563-4744-bd27-e41a9138d5ee"
      },
      "outputs": [
        {
          "output_type": "display_data",
          "data": {
            "text/plain": [
              "<Figure size 1200x600 with 1 Axes>"
            ],
            "image/png": "[encoded data removed]"
          },
          "metadata": {}
        }
      ],
      "source": [
        "china_medals = df[(df['Team'] == 'China') & (df['Medal'] != 'No medal')]\n",
        "china_gender = china_medals.groupby(['Year', 'Sex']).size().unstack()\n",
        "china_gender.plot(kind='bar', stacked=True, figsize=(12, 6))\n",
        "\n",
        "plt.show()"
      ]
    },
    {
      "cell_type": "markdown",
      "metadata": {
        "id": "YM5LH2-Xyz5A"
      },
      "source": [
        "10. Какие 10 стран имеют наибольшее количество участников, не получивших никаких медалей ни на одной из Летних олимпиад?"
      ]
    },
    {
      "cell_type": "code",
      "execution_count": null,
      "metadata": {
        "id": "QF1-5fg3y1SY",
        "colab": {
          "base_uri": "https://localhost:8080/",
          "height": 545
        },
        "outputId": "a652cbc7-2147-435a-989d-f9c551917fce"
      },
      "outputs": [
        {
          "output_type": "display_data",
          "data": {
            "text/plain": [
              "<Figure size 1000x500 with 1 Axes>"
            ],
            "image/png": "[encoded data removed]"
          },
          "metadata": {}
        }
      ],
      "source": [
        "no_medals = df[df['Medal'] == 'No medal']['Team'].value_counts().head(10)\n",
        "no_medals.plot(kind='bar', figsize=(10, 5))\n",
        "\n",
        "plt.show()"
      ]
    },
    {
      "cell_type": "markdown",
      "metadata": {
        "id": "uc7V9_XbG5lY"
      },
      "source": [
        "**Выводы:**\n",
        "Научился использовать naampy и pandas\n"
      ]
    }
  ],
  "metadata": {
    "colab": {
      "provenance": []
    },
    "kernelspec": {
      "display_name": "Python 3 (ipykernel)",
      "language": "python",
      "name": "python3"
    },
    "language_info": {
      "codemirror_mode": {
        "name": "ipython",
        "version": 3
      },
      "file_extension": ".py",
      "mimetype": "text/x-python",
      "name": "python",
      "nbconvert_exporter": "python",
      "pygments_lexer": "ipython3",
      "version": "3.11.7"
    }
  },
  "nbformat": 4,
  "nbformat_minor": 0
}